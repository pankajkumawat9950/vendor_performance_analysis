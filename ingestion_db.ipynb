{
 "cells": [
  {
   "cell_type": "code",
   "execution_count": 1,
   "id": "83be43a4-e44a-480c-a078-3ca206619eb4",
   "metadata": {},
   "outputs": [],
   "source": [
    "import pandas as pd\n",
    "import os\n",
    "from sqlalchemy import create_engine\n",
    "import time\n",
    "import logging\n",
    "\n",
    "# Set up logging\n",
    "logging.basicConfig(\n",
    "    filename=\"logs/ingestion_db.log\",\n",
    "    level=logging.DEBUG,\n",
    "    format=\"%(asctime)s - %(levelname)s - %(message)s\",\n",
    "    filemode=\"a\"\n",
    ")\n",
    "\n",
    "# Create SQLite engine\n",
    "engine = create_engine('sqlite:///inventory.db')\n",
    "\n",
    "def ingest_db(df, table_name, engine):\n",
    "    '''Ingest a DataFrame into a database table'''\n",
    "    df.to_sql(table_name, con=engine, if_exists='replace', index=False,chunksize=1000)\n",
    "    logging.info(f'Table {table_name} ingested successfully.')\n",
    "\n",
    "def load_row_data():\n",
    "    '''Load all CSVs from /data and insert them into the DB'''\n",
    "    start = time.time()\n",
    "    \n",
    "    for file in os.listdir('data'):\n",
    "        if file.endswith(\".csv\"):\n",
    "            df = pd.read_csv(os.path.join('data', file))\n",
    "            logging.info(f'Loading {file} into DataFrame')\n",
    "            ingest_db(df, file[:-4], engine)\n",
    "    \n",
    "    end = time.time()\n",
    "    elapsed = (end - start) / 60\n",
    "    logging.info(\"--------------Ingestion Complete--------------\")\n",
    "    logging.info(f\"Total Time taken: {elapsed:.2f} minutes\")\n",
    "\n",
    "if __name__ == '__main__':\n",
    "    load_row_data()"
   ]
  }
 ],
 "metadata": {
  "kernelspec": {
   "display_name": "Python 3 (ipykernel)",
   "language": "python",
   "name": "python3"
  },
  "language_info": {
   "codemirror_mode": {
    "name": "ipython",
    "version": 3
   },
   "file_extension": ".py",
   "mimetype": "text/x-python",
   "name": "python",
   "nbconvert_exporter": "python",
   "pygments_lexer": "ipython3",
   "version": "3.13.5"
  },
  "widgets": {
   "application/vnd.jupyter.widget-state+json": {
    "state": {},
    "version_major": 2,
    "version_minor": 0
   }
  }
 },
 "nbformat": 4,
 "nbformat_minor": 5
}
